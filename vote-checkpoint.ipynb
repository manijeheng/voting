{
 "cells": [
  {
   "cell_type": "code",
   "execution_count": 1,
   "id": "0dd3a660",
   "metadata": {},
   "outputs": [],
   "source": [
    "import pandas as np"
   ]
  },
  {
   "cell_type": "code",
   "execution_count": null,
   "id": "fcea7a6b",
   "metadata": {},
   "outputs": [],
   "source": [
    "a = 0\n",
    "b = 0\n",
    "c = 0\n",
    "d = 0\n",
    "count= 0\n",
    "for a in range (851 // 2):\n",
    "    for b in range(851 // 5):\n",
    "        for c in range (851 // 7):\n",
    "            for d in range(851 // 10):\n",
    "                sum_vote=2 * a + 5 * b + 7 * c + d * 10\n",
    "                if sum_vote<=850:\n",
    "                    print(f\"2*{a} + 5*{b} + 7*{c} + 10*{d}={sum_vote}\\n\")\n",
    "                    count+=1\n",
    "print(f\"TOtal combination is {count} \\n \")   \n",
    "            "
   ]
  },
  {
   "cell_type": "code",
   "execution_count": null,
   "id": "9e277f40",
   "metadata": {},
   "outputs": [],
   "source": []
  }
 ],
 "metadata": {
  "kernelspec": {
   "display_name": "Python 3 (ipykernel)",
   "language": "python",
   "name": "python3"
  },
  "language_info": {
   "codemirror_mode": {
    "name": "ipython",
    "version": 3
   },
   "file_extension": ".py",
   "mimetype": "text/x-python",
   "name": "python",
   "nbconvert_exporter": "python",
   "pygments_lexer": "ipython3",
   "version": "3.11.5"
  }
 },
 "nbformat": 4,
 "nbformat_minor": 5
}
